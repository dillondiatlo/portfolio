{
 "cells": [
  {
   "cell_type": "code",
   "execution_count": 229,
   "id": "45258b4d-4ac6-4ef6-adbc-e311320e5226",
   "metadata": {},
   "outputs": [],
   "source": [
    "import pandas as pd\n",
    "import numpy as np \n",
    "import matplotlib.pyplot as plt"
   ]
  },
  {
   "cell_type": "markdown",
   "id": "71fb7540-3b97-407e-831e-1b55384cbbe7",
   "metadata": {},
   "source": [
    "Have the function Consecutive(arr) take the array of integers stored in arr and return the minimum number of integers needed to make the contents of arr consecutive from the lowest number to the highest number. For example: If arr contains [4, 8, 6] then the output should be 2 because two numbers need to be added to the array (5 and 7) to make it a consecutive array of numbers from 4 to 8. Negative numbers may be entered as parameters and no array will have less than 2 elements."
   ]
  },
  {
   "cell_type": "code",
   "execution_count": 82,
   "id": "04d701d0-7e0c-4a13-a3f6-04ecf19e637f",
   "metadata": {},
   "outputs": [
    {
     "name": "stdout",
     "output_type": "stream",
     "text": [
      "[4, 10, 12, 19, 22]\n"
     ]
    }
   ],
   "source": [
    "arr = [4,10,12,19,22]\n",
    "print(arr)"
   ]
  },
  {
   "cell_type": "code",
   "execution_count": 38,
   "id": "9282173a-1196-4c7b-b1f2-dcaa785898cb",
   "metadata": {},
   "outputs": [
    {
     "data": {
      "text/plain": [
       "[4, 10, 12, 19, 22]"
      ]
     },
     "execution_count": 38,
     "metadata": {},
     "output_type": "execute_result"
    }
   ],
   "source": [
    "arr.sort()\n",
    "arr"
   ]
  },
  {
   "cell_type": "code",
   "execution_count": 46,
   "id": "37837e0a-a974-40ca-a97b-987c55b04163",
   "metadata": {},
   "outputs": [
    {
     "name": "stdout",
     "output_type": "stream",
     "text": [
      "4\n"
     ]
    }
   ],
   "source": [
    "new = []\n",
    "for i in arr:\n",
    "    print(i)"
   ]
  },
  {
   "cell_type": "code",
   "execution_count": 194,
   "id": "9733acf2-4c4e-4554-9a0f-84c17b9ed708",
   "metadata": {},
   "outputs": [
    {
     "data": {
      "text/plain": [
       "2"
      ]
     },
     "execution_count": 194,
     "metadata": {},
     "output_type": "execute_result"
    }
   ],
   "source": [
    "f = [9, 11]\n",
    "len(f)"
   ]
  },
  {
   "cell_type": "code",
   "execution_count": 218,
   "id": "1a8b0d69-9c42-4782-aece-a6ccbf64b32a",
   "metadata": {},
   "outputs": [],
   "source": [
    "arr = [4,10,12,19,22]"
   ]
  },
  {
   "cell_type": "code",
   "execution_count": 219,
   "id": "480cf96f-8be9-4cd7-be6d-428cbc4206d3",
   "metadata": {},
   "outputs": [
    {
     "name": "stdout",
     "output_type": "stream",
     "text": [
      "[] [2, 6, 1, 5] 14\n"
     ]
    }
   ],
   "source": [
    "arr = [4,10,12,19,22]\n",
    "counter = 0\n",
    "for i in arr[0:]:\n",
    "    if len(arr) > 1:\n",
    "        diff = (arr[-1] - arr[-2]-1)\n",
    "        counter += diff\n",
    "    arr.pop()\n",
    "print(arr, new, counter)"
   ]
  },
  {
   "cell_type": "code",
   "execution_count": null,
   "id": "45370b23-0b92-46f2-a1a4-3d93d0eb562f",
   "metadata": {},
   "outputs": [],
   "source": []
  },
  {
   "cell_type": "code",
   "execution_count": 222,
   "id": "84eb3e8a-38a0-4ebf-b0f6-8039d6ddbef8",
   "metadata": {},
   "outputs": [],
   "source": []
  },
  {
   "cell_type": "code",
   "execution_count": 37,
   "id": "597fbdb2-7251-42ee-a8cc-c3006bed0843",
   "metadata": {},
   "outputs": [
    {
     "ename": "AttributeError",
     "evalue": "'str' object has no attribute 'astype'",
     "output_type": "error",
     "traceback": [
      "\u001b[0;31m---------------------------------------------------------------------------\u001b[0m",
      "\u001b[0;31mAttributeError\u001b[0m                            Traceback (most recent call last)",
      "Cell \u001b[0;32mIn[37], line 10\u001b[0m\n\u001b[1;32m      7\u001b[0m             nums \u001b[38;5;241m=\u001b[39m \u001b[38;5;28mstr\u001b[39m(nums)\n\u001b[1;32m      8\u001b[0m         \u001b[38;5;28;01mreturn\u001b[39;00m nums\u001b[38;5;241m.\u001b[39mastype(\u001b[38;5;28mint\u001b[39m)\n\u001b[0;32m---> 10\u001b[0m removeDuplicates(nums)\n",
      "Cell \u001b[0;32mIn[37], line 8\u001b[0m, in \u001b[0;36mremoveDuplicates\u001b[0;34m(nums)\u001b[0m\n\u001b[1;32m      6\u001b[0m     nums\u001b[38;5;241m.\u001b[39minsert(\u001b[38;5;241m0\u001b[39m, \u001b[38;5;28mlen\u001b[39m(nums))\n\u001b[1;32m      7\u001b[0m     nums \u001b[38;5;241m=\u001b[39m \u001b[38;5;28mstr\u001b[39m(nums)\n\u001b[0;32m----> 8\u001b[0m \u001b[38;5;28;01mreturn\u001b[39;00m nums\u001b[38;5;241m.\u001b[39mastype(\u001b[38;5;28mint\u001b[39m)\n",
      "\u001b[0;31mAttributeError\u001b[0m: 'str' object has no attribute 'astype'"
     ]
    }
   ],
   "source": [
    "nums = [1,1,1,2,2,3]\n",
    "def removeDuplicates(nums):\n",
    "    for i in nums:\n",
    "        if nums.count(i) > 2:\n",
    "            extra = nums.remove(i)\n",
    "            nums.insert(0, len(nums))\n",
    "            nums = str(nums)\n",
    "        return nums.astype(int)\n",
    "\n",
    "removeDuplicates(nums)"
   ]
  },
  {
   "cell_type": "code",
   "execution_count": 231,
   "id": "8ecd9e67-5ad3-45cb-84ca-08e60beea3cb",
   "metadata": {},
   "outputs": [
    {
     "data": {
      "text/plain": [
       "3"
      ]
     },
     "execution_count": 231,
     "metadata": {},
     "output_type": "execute_result"
    }
   ],
   "source": [
    "nums = [1,1,1,2,2,3]\n",
    "\n",
    "nums.count(1)"
   ]
  },
  {
   "cell_type": "code",
   "execution_count": null,
   "id": "62dd009e-8b40-4d9b-9ba1-db2da71811b7",
   "metadata": {},
   "outputs": [],
   "source": []
  }
 ],
 "metadata": {
  "kernelspec": {
   "display_name": "Python 3 (ipykernel)",
   "language": "python",
   "name": "python3"
  },
  "language_info": {
   "codemirror_mode": {
    "name": "ipython",
    "version": 3
   },
   "file_extension": ".py",
   "mimetype": "text/x-python",
   "name": "python",
   "nbconvert_exporter": "python",
   "pygments_lexer": "ipython3",
   "version": "3.11.5"
  }
 },
 "nbformat": 4,
 "nbformat_minor": 5
}
