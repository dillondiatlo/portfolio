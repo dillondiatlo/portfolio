import pandas as pd
import numpy as np 
import matplotlib.pyplot as plt





arr = [4,10,12,19,22]
print(arr)


arr.sort()
arr


new = []
for i in arr:
    print(i)


f = [9, 11]
len(f)


arr = [4,10,12,19,22]


arr = [4,10,12,19,22]
counter = 0
for i in arr[0:]:
    if len(arr) > 1:
        diff = (arr[-1] - arr[-2]-1)
        counter += diff
    arr.pop()
print(arr, new, counter)








nums = [1,1,1,2,2,3]
def removeDuplicates(nums):
    for i in nums:
        if nums.count(i) > 2:
            extra = nums.remove(i)
            nums.insert(0, len(nums))
            nums = str(nums)
        return nums.astype(int)

removeDuplicates(nums)


nums = [1,1,1,2,2,3]

nums.count(1)



